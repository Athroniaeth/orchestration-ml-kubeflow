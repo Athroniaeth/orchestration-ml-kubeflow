{
 "cells": [
  {
   "cell_type": "code",
   "execution_count": 19,
   "id": "initial_id",
   "metadata": {
    "collapsed": true,
    "ExecuteTime": {
     "end_time": "2023-09-04T09:55:49.597479Z",
     "start_time": "2023-09-04T09:55:46.257214900Z"
    }
   },
   "outputs": [
    {
     "name": "stdout",
     "output_type": "stream",
     "text": [
      "Installing roboflow..."
     ]
    },
    {
     "name": "stderr",
     "output_type": "stream",
     "text": [
      "Loading .env environment variables...\n",
      "Courtesy Notice: Pipenv found itself running within a virtual environment, so it will automatically use that environment, instead of creating its own for any project. You can set PIPENV_IGNORE_VIRTUALENVS=1 to force pipenv to ignore that environment and create its own instead. You can set PIPENV_VERBOSITY=-1 to suppress this warning.\n"
     ]
    },
    {
     "name": "stdout",
     "output_type": "stream",
     "text": [
      "\n",
      "Resolving roboflow...\n",
      "[    ] Installing...\n",
      "Installation Succeeded\n",
      "[    ] Installing roboflow...\n",
      "[    ] Installing roboflow...\n",
      "\n",
      "Installing dependencies from Pipfile.lock (09d3b4)...\n",
      "To activate this project's virtualenv, run pipenv shell.\n",
      "Alternatively, run a command inside the virtualenv with pipenv run.\n"
     ]
    }
   ],
   "source": [
    "!pipenv install roboflow"
   ]
  },
  {
   "cell_type": "code",
   "execution_count": 20,
   "outputs": [],
   "source": [
    "from dotenv import load_dotenv\n",
    "from pathlib import Path\n",
    "import os\n",
    "PROJECT_PATH = Path().parent.parent.absolute()\n",
    "APP_PATH = PROJECT_PATH / 'app'\n",
    "\n",
    "load_dotenv(dotenv_path=PROJECT_PATH)\n",
    "\n",
    "os.environ['PROJECT_PATH'] = f'{PROJECT_PATH}'\n",
    "os.environ['APP_PATH'] = f'{APP_PATH}'\n",
    "\n",
    "PROJECT_PATH = Path(os.getenv(\"PROJECT_PATH\"))\n",
    "ROBOFLOW_API_KEY = os.getenv(\"ROBOFLOW_API_KEY\")"
   ],
   "metadata": {
    "collapsed": false,
    "ExecuteTime": {
     "end_time": "2023-09-04T09:55:49.604163200Z",
     "start_time": "2023-09-04T09:55:49.594761300Z"
    }
   },
   "id": "278cb0a70e2c2aa3"
  },
  {
   "cell_type": "code",
   "execution_count": 21,
   "outputs": [
    {
     "name": "stdout",
     "output_type": "stream",
     "text": [
      "loading Roboflow workspace...\n",
      "loading Roboflow project...\n",
      "Dependency ultralytics==8.0.134 is required but found version=8.0.170, to fix: `pip install ultralytics==8.0.134`\n",
      "Downloading Dataset Version Zip in C:\\Users\\pierr\\OneDrive\\Bureau\\Projet\\kubeflow\\app\\app\\datasets to yolov8: 100% [1822425307 / 1822425307] bytes\n"
     ]
    },
    {
     "name": "stderr",
     "output_type": "stream",
     "text": [
      "Extracting Dataset Version Zip to C:\\Users\\pierr\\OneDrive\\Bureau\\Projet\\kubeflow\\app\\app\\datasets in yolov8:: 100%|██████████| 52500/52500 [00:26<00:00, 1979.91it/s]\n"
     ]
    }
   ],
   "source": [
    "from roboflow import Roboflow\n",
    "DATASETS_PATH = PROJECT_PATH / 'app' / 'datasets'\n",
    "DATASETS_PATH = f'{DATASETS_PATH.absolute()}'\n",
    "\n",
    "rf = Roboflow(api_key=ROBOFLOW_API_KEY)\n",
    "project = rf.workspace(\"ultimate-0fe1g\").project(\"elephants_16\")\n",
    "dataset = project.version(1).download(\"yolov8\", location=DATASETS_PATH)"
   ],
   "metadata": {
    "collapsed": false,
    "ExecuteTime": {
     "end_time": "2023-09-04T10:02:46.545977400Z",
     "start_time": "2023-09-04T09:55:49.601162800Z"
    }
   },
   "id": "5db85b8df866a2db"
  }
 ],
 "metadata": {
  "kernelspec": {
   "display_name": "Python 3",
   "language": "python",
   "name": "python3"
  },
  "language_info": {
   "codemirror_mode": {
    "name": "ipython",
    "version": 2
   },
   "file_extension": ".py",
   "mimetype": "text/x-python",
   "name": "python",
   "nbconvert_exporter": "python",
   "pygments_lexer": "ipython2",
   "version": "2.7.6"
  }
 },
 "nbformat": 4,
 "nbformat_minor": 5
}
